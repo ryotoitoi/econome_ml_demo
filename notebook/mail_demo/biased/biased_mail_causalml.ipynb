{
 "cells": [
  {
   "cell_type": "code",
   "execution_count": 29,
   "source": [
    "# import packeges\n",
    "import pandas as pd\n",
    "import numpy as np\n",
    "from IPython.display import Image, display\n",
    "from matplotlib import pyplot as plt\n",
    "from sklearn.linear_model import LinearRegression\n",
    "from sklearn.model_selection import train_test_split\n",
    "import statsmodels.api as sm\n",
    "from xgboost import XGBRegressor\n",
    "import warnings\n",
    "\n",
    "from causalml.inference.meta import LRSRegressor\n",
    "from causalml.inference.meta import XGBTRegressor, MLPTRegressor\n",
    "from causalml.inference.meta import BaseXRegressor, BaseRRegressor, BaseSRegressor, BaseTRegressor\n",
    "from causalml.match import NearestNeighborMatch, MatchOptimizer, create_table_one\n",
    "from causalml.propensity import ElasticNetPropensityModel\n",
    "from causalml.dataset import *\n",
    "from causalml.metrics import *\n",
    "\n",
    "warnings.filterwarnings('ignore')\n",
    "plt.style.use('fivethirtyeight')\n",
    "\n",
    "%matplotlib inline"
   ],
   "outputs": [],
   "metadata": {}
  },
  {
   "cell_type": "code",
   "execution_count": 30,
   "source": [
    "# confirm version\n",
    "import causalml\n",
    "print(causalml.__version__)"
   ],
   "outputs": [
    {
     "output_type": "stream",
     "name": "stdout",
     "text": [
      "0.11.0\n"
     ]
    }
   ],
   "metadata": {}
  },
  {
   "cell_type": "code",
   "execution_count": 31,
   "source": [
    "# load data\n",
    "base_path = \"/Users/ryoto/workspace/hit-u/zemi/econome_ml_demo/data/\"\n",
    "mail = pd.read_csv(os.path.join(base_path,'E-MailAnalytics.csv'))\n",
    "print(mail.shape)\n",
    "mail.head()"
   ],
   "outputs": [
    {
     "output_type": "stream",
     "name": "stdout",
     "text": [
      "(64000, 12)\n"
     ]
    },
    {
     "output_type": "execute_result",
     "data": {
      "text/html": [
       "<div>\n",
       "<style scoped>\n",
       "    .dataframe tbody tr th:only-of-type {\n",
       "        vertical-align: middle;\n",
       "    }\n",
       "\n",
       "    .dataframe tbody tr th {\n",
       "        vertical-align: top;\n",
       "    }\n",
       "\n",
       "    .dataframe thead th {\n",
       "        text-align: right;\n",
       "    }\n",
       "</style>\n",
       "<table border=\"1\" class=\"dataframe\">\n",
       "  <thead>\n",
       "    <tr style=\"text-align: right;\">\n",
       "      <th></th>\n",
       "      <th>recency</th>\n",
       "      <th>history_segment</th>\n",
       "      <th>history</th>\n",
       "      <th>mens</th>\n",
       "      <th>womens</th>\n",
       "      <th>zip_code</th>\n",
       "      <th>newbie</th>\n",
       "      <th>channel</th>\n",
       "      <th>segment</th>\n",
       "      <th>visit</th>\n",
       "      <th>conversion</th>\n",
       "      <th>spend</th>\n",
       "    </tr>\n",
       "  </thead>\n",
       "  <tbody>\n",
       "    <tr>\n",
       "      <th>0</th>\n",
       "      <td>10</td>\n",
       "      <td>2) $100 - $200</td>\n",
       "      <td>142.44</td>\n",
       "      <td>1</td>\n",
       "      <td>0</td>\n",
       "      <td>Surburban</td>\n",
       "      <td>0</td>\n",
       "      <td>Phone</td>\n",
       "      <td>Womens E-Mail</td>\n",
       "      <td>0</td>\n",
       "      <td>0</td>\n",
       "      <td>0.0</td>\n",
       "    </tr>\n",
       "    <tr>\n",
       "      <th>1</th>\n",
       "      <td>6</td>\n",
       "      <td>3) $200 - $350</td>\n",
       "      <td>329.08</td>\n",
       "      <td>1</td>\n",
       "      <td>1</td>\n",
       "      <td>Rural</td>\n",
       "      <td>1</td>\n",
       "      <td>Web</td>\n",
       "      <td>No E-Mail</td>\n",
       "      <td>0</td>\n",
       "      <td>0</td>\n",
       "      <td>0.0</td>\n",
       "    </tr>\n",
       "    <tr>\n",
       "      <th>2</th>\n",
       "      <td>7</td>\n",
       "      <td>2) $100 - $200</td>\n",
       "      <td>180.65</td>\n",
       "      <td>0</td>\n",
       "      <td>1</td>\n",
       "      <td>Surburban</td>\n",
       "      <td>1</td>\n",
       "      <td>Web</td>\n",
       "      <td>Womens E-Mail</td>\n",
       "      <td>0</td>\n",
       "      <td>0</td>\n",
       "      <td>0.0</td>\n",
       "    </tr>\n",
       "    <tr>\n",
       "      <th>3</th>\n",
       "      <td>9</td>\n",
       "      <td>5) $500 - $750</td>\n",
       "      <td>675.83</td>\n",
       "      <td>1</td>\n",
       "      <td>0</td>\n",
       "      <td>Rural</td>\n",
       "      <td>1</td>\n",
       "      <td>Web</td>\n",
       "      <td>Mens E-Mail</td>\n",
       "      <td>0</td>\n",
       "      <td>0</td>\n",
       "      <td>0.0</td>\n",
       "    </tr>\n",
       "    <tr>\n",
       "      <th>4</th>\n",
       "      <td>2</td>\n",
       "      <td>1) $0 - $100</td>\n",
       "      <td>45.34</td>\n",
       "      <td>1</td>\n",
       "      <td>0</td>\n",
       "      <td>Urban</td>\n",
       "      <td>0</td>\n",
       "      <td>Web</td>\n",
       "      <td>Womens E-Mail</td>\n",
       "      <td>0</td>\n",
       "      <td>0</td>\n",
       "      <td>0.0</td>\n",
       "    </tr>\n",
       "  </tbody>\n",
       "</table>\n",
       "</div>"
      ],
      "text/plain": [
       "   recency history_segment  history  mens  womens   zip_code  newbie channel  \\\n",
       "0       10  2) $100 - $200   142.44     1       0  Surburban       0   Phone   \n",
       "1        6  3) $200 - $350   329.08     1       1      Rural       1     Web   \n",
       "2        7  2) $100 - $200   180.65     0       1  Surburban       1     Web   \n",
       "3        9  5) $500 - $750   675.83     1       0      Rural       1     Web   \n",
       "4        2    1) $0 - $100    45.34     1       0      Urban       0     Web   \n",
       "\n",
       "         segment  visit  conversion  spend  \n",
       "0  Womens E-Mail      0           0    0.0  \n",
       "1      No E-Mail      0           0    0.0  \n",
       "2  Womens E-Mail      0           0    0.0  \n",
       "3    Mens E-Mail      0           0    0.0  \n",
       "4  Womens E-Mail      0           0    0.0  "
      ]
     },
     "metadata": {},
     "execution_count": 31
    }
   ],
   "metadata": {}
  },
  {
   "cell_type": "code",
   "execution_count": 32,
   "source": [
    "# segment == Men's E-mail のデータのみで実験する\n",
    "male_df = mail.query(\"segment != 'Womens E-Mail'\")\n",
    "male_df[\"segment\"] = male_df.segment.map(lambda x: 1 if x == 'Mens E-Mail' else 0)\n",
    "male_df = male_df.rename(columns={\"segment\" : \"treatment\"})\n",
    "print(male_df.shape)\n",
    "display(male_df.head())\n",
    "\n",
    "sample_rules = (male_df.history > 300) | (male_df.recency < 6) | (male_df.channel=='Multichannel')\n",
    "mail_df = pd.concat([\n",
    "    male_df[(sample_rules) & (male_df.treatment == 0)].sample(frac=0.5, random_state=1),\n",
    "    male_df[(sample_rules) & (male_df.treatment == 1)],\n",
    "    male_df[(~sample_rules) & (male_df.treatment == 0)],\n",
    "    male_df[(~sample_rules) & (male_df.treatment == 1)].sample(frac=0.5, random_state=1)\n",
    "], axis=0, ignore_index=True)\n",
    "\n",
    "print(mail_df.shape)\n",
    "display(mail_df.head())"
   ],
   "outputs": [
    {
     "output_type": "stream",
     "name": "stdout",
     "text": [
      "(42613, 12)\n"
     ]
    },
    {
     "output_type": "display_data",
     "data": {
      "text/html": [
       "<div>\n",
       "<style scoped>\n",
       "    .dataframe tbody tr th:only-of-type {\n",
       "        vertical-align: middle;\n",
       "    }\n",
       "\n",
       "    .dataframe tbody tr th {\n",
       "        vertical-align: top;\n",
       "    }\n",
       "\n",
       "    .dataframe thead th {\n",
       "        text-align: right;\n",
       "    }\n",
       "</style>\n",
       "<table border=\"1\" class=\"dataframe\">\n",
       "  <thead>\n",
       "    <tr style=\"text-align: right;\">\n",
       "      <th></th>\n",
       "      <th>recency</th>\n",
       "      <th>history_segment</th>\n",
       "      <th>history</th>\n",
       "      <th>mens</th>\n",
       "      <th>womens</th>\n",
       "      <th>zip_code</th>\n",
       "      <th>newbie</th>\n",
       "      <th>channel</th>\n",
       "      <th>treatment</th>\n",
       "      <th>visit</th>\n",
       "      <th>conversion</th>\n",
       "      <th>spend</th>\n",
       "    </tr>\n",
       "  </thead>\n",
       "  <tbody>\n",
       "    <tr>\n",
       "      <th>1</th>\n",
       "      <td>6</td>\n",
       "      <td>3) $200 - $350</td>\n",
       "      <td>329.08</td>\n",
       "      <td>1</td>\n",
       "      <td>1</td>\n",
       "      <td>Rural</td>\n",
       "      <td>1</td>\n",
       "      <td>Web</td>\n",
       "      <td>0</td>\n",
       "      <td>0</td>\n",
       "      <td>0</td>\n",
       "      <td>0.0</td>\n",
       "    </tr>\n",
       "    <tr>\n",
       "      <th>3</th>\n",
       "      <td>9</td>\n",
       "      <td>5) $500 - $750</td>\n",
       "      <td>675.83</td>\n",
       "      <td>1</td>\n",
       "      <td>0</td>\n",
       "      <td>Rural</td>\n",
       "      <td>1</td>\n",
       "      <td>Web</td>\n",
       "      <td>1</td>\n",
       "      <td>0</td>\n",
       "      <td>0</td>\n",
       "      <td>0.0</td>\n",
       "    </tr>\n",
       "    <tr>\n",
       "      <th>8</th>\n",
       "      <td>9</td>\n",
       "      <td>5) $500 - $750</td>\n",
       "      <td>675.07</td>\n",
       "      <td>1</td>\n",
       "      <td>1</td>\n",
       "      <td>Rural</td>\n",
       "      <td>1</td>\n",
       "      <td>Phone</td>\n",
       "      <td>1</td>\n",
       "      <td>0</td>\n",
       "      <td>0</td>\n",
       "      <td>0.0</td>\n",
       "    </tr>\n",
       "    <tr>\n",
       "      <th>13</th>\n",
       "      <td>2</td>\n",
       "      <td>2) $100 - $200</td>\n",
       "      <td>101.64</td>\n",
       "      <td>0</td>\n",
       "      <td>1</td>\n",
       "      <td>Urban</td>\n",
       "      <td>0</td>\n",
       "      <td>Web</td>\n",
       "      <td>1</td>\n",
       "      <td>1</td>\n",
       "      <td>0</td>\n",
       "      <td>0.0</td>\n",
       "    </tr>\n",
       "    <tr>\n",
       "      <th>14</th>\n",
       "      <td>4</td>\n",
       "      <td>3) $200 - $350</td>\n",
       "      <td>241.42</td>\n",
       "      <td>0</td>\n",
       "      <td>1</td>\n",
       "      <td>Rural</td>\n",
       "      <td>1</td>\n",
       "      <td>Multichannel</td>\n",
       "      <td>0</td>\n",
       "      <td>0</td>\n",
       "      <td>0</td>\n",
       "      <td>0.0</td>\n",
       "    </tr>\n",
       "  </tbody>\n",
       "</table>\n",
       "</div>"
      ],
      "text/plain": [
       "    recency history_segment  history  mens  womens zip_code  newbie  \\\n",
       "1         6  3) $200 - $350   329.08     1       1    Rural       1   \n",
       "3         9  5) $500 - $750   675.83     1       0    Rural       1   \n",
       "8         9  5) $500 - $750   675.07     1       1    Rural       1   \n",
       "13        2  2) $100 - $200   101.64     0       1    Urban       0   \n",
       "14        4  3) $200 - $350   241.42     0       1    Rural       1   \n",
       "\n",
       "         channel  treatment  visit  conversion  spend  \n",
       "1            Web          0      0           0    0.0  \n",
       "3            Web          1      0           0    0.0  \n",
       "8          Phone          1      0           0    0.0  \n",
       "13           Web          1      1           0    0.0  \n",
       "14  Multichannel          0      0           0    0.0  "
      ]
     },
     "metadata": {}
    },
    {
     "output_type": "stream",
     "name": "stdout",
     "text": [
      "(31925, 12)\n"
     ]
    },
    {
     "output_type": "display_data",
     "data": {
      "text/html": [
       "<div>\n",
       "<style scoped>\n",
       "    .dataframe tbody tr th:only-of-type {\n",
       "        vertical-align: middle;\n",
       "    }\n",
       "\n",
       "    .dataframe tbody tr th {\n",
       "        vertical-align: top;\n",
       "    }\n",
       "\n",
       "    .dataframe thead th {\n",
       "        text-align: right;\n",
       "    }\n",
       "</style>\n",
       "<table border=\"1\" class=\"dataframe\">\n",
       "  <thead>\n",
       "    <tr style=\"text-align: right;\">\n",
       "      <th></th>\n",
       "      <th>recency</th>\n",
       "      <th>history_segment</th>\n",
       "      <th>history</th>\n",
       "      <th>mens</th>\n",
       "      <th>womens</th>\n",
       "      <th>zip_code</th>\n",
       "      <th>newbie</th>\n",
       "      <th>channel</th>\n",
       "      <th>treatment</th>\n",
       "      <th>visit</th>\n",
       "      <th>conversion</th>\n",
       "      <th>spend</th>\n",
       "    </tr>\n",
       "  </thead>\n",
       "  <tbody>\n",
       "    <tr>\n",
       "      <th>0</th>\n",
       "      <td>8</td>\n",
       "      <td>5) $500 - $750</td>\n",
       "      <td>572.65</td>\n",
       "      <td>1</td>\n",
       "      <td>0</td>\n",
       "      <td>Urban</td>\n",
       "      <td>1</td>\n",
       "      <td>Web</td>\n",
       "      <td>0</td>\n",
       "      <td>0</td>\n",
       "      <td>0</td>\n",
       "      <td>0.0</td>\n",
       "    </tr>\n",
       "    <tr>\n",
       "      <th>1</th>\n",
       "      <td>5</td>\n",
       "      <td>1) $0 - $100</td>\n",
       "      <td>42.38</td>\n",
       "      <td>1</td>\n",
       "      <td>0</td>\n",
       "      <td>Urban</td>\n",
       "      <td>1</td>\n",
       "      <td>Phone</td>\n",
       "      <td>0</td>\n",
       "      <td>1</td>\n",
       "      <td>0</td>\n",
       "      <td>0.0</td>\n",
       "    </tr>\n",
       "    <tr>\n",
       "      <th>2</th>\n",
       "      <td>1</td>\n",
       "      <td>7) $1,000 +</td>\n",
       "      <td>3003.48</td>\n",
       "      <td>1</td>\n",
       "      <td>1</td>\n",
       "      <td>Urban</td>\n",
       "      <td>1</td>\n",
       "      <td>Phone</td>\n",
       "      <td>0</td>\n",
       "      <td>0</td>\n",
       "      <td>0</td>\n",
       "      <td>0.0</td>\n",
       "    </tr>\n",
       "    <tr>\n",
       "      <th>3</th>\n",
       "      <td>1</td>\n",
       "      <td>5) $500 - $750</td>\n",
       "      <td>662.10</td>\n",
       "      <td>0</td>\n",
       "      <td>1</td>\n",
       "      <td>Urban</td>\n",
       "      <td>1</td>\n",
       "      <td>Web</td>\n",
       "      <td>0</td>\n",
       "      <td>0</td>\n",
       "      <td>0</td>\n",
       "      <td>0.0</td>\n",
       "    </tr>\n",
       "    <tr>\n",
       "      <th>4</th>\n",
       "      <td>5</td>\n",
       "      <td>1) $0 - $100</td>\n",
       "      <td>44.37</td>\n",
       "      <td>0</td>\n",
       "      <td>1</td>\n",
       "      <td>Urban</td>\n",
       "      <td>0</td>\n",
       "      <td>Web</td>\n",
       "      <td>0</td>\n",
       "      <td>0</td>\n",
       "      <td>0</td>\n",
       "      <td>0.0</td>\n",
       "    </tr>\n",
       "  </tbody>\n",
       "</table>\n",
       "</div>"
      ],
      "text/plain": [
       "   recency history_segment  history  mens  womens zip_code  newbie channel  \\\n",
       "0        8  5) $500 - $750   572.65     1       0    Urban       1     Web   \n",
       "1        5    1) $0 - $100    42.38     1       0    Urban       1   Phone   \n",
       "2        1     7) $1,000 +  3003.48     1       1    Urban       1   Phone   \n",
       "3        1  5) $500 - $750   662.10     0       1    Urban       1     Web   \n",
       "4        5    1) $0 - $100    44.37     0       1    Urban       0     Web   \n",
       "\n",
       "   treatment  visit  conversion  spend  \n",
       "0          0      0           0    0.0  \n",
       "1          0      1           0    0.0  \n",
       "2          0      0           0    0.0  \n",
       "3          0      0           0    0.0  \n",
       "4          0      0           0    0.0  "
      ]
     },
     "metadata": {}
    }
   ],
   "metadata": {}
  },
  {
   "cell_type": "code",
   "execution_count": 33,
   "source": [
    "# ラベルエンコーディング（OrdinalEncoder）\n",
    "from sklearn.preprocessing import OrdinalEncoder\n",
    "\n",
    "oe = OrdinalEncoder()\n",
    "encoded = oe.fit_transform(mail_df[['history_segment', 'zip_code', \"channel\"]].values)\n",
    "# decoded = oe.inverse_transform(encoded)\n",
    "\n",
    "print('エンコード結果: ')\n",
    "encoded_df = pd.DataFrame(encoded, columns = [\"history_segment\", \"zip_code\", \"channel\"])\n",
    "encoded_df.head()\n",
    "\n",
    "mail_df_use = mail_df[\n",
    "    ['recency', 'history', 'mens', 'womens', 'newbie', 'treatment', 'visit', 'conversion', 'spend']\n",
    "    ]\n",
    "demo_df = pd.concat([mail_df_use.reset_index(), encoded_df], axis = 1).drop(columns = \"index\")\n",
    "print(demo_df.shape)\n",
    "demo_df.head()"
   ],
   "outputs": [
    {
     "output_type": "stream",
     "name": "stdout",
     "text": [
      "エンコード結果: \n",
      "(31925, 12)\n"
     ]
    },
    {
     "output_type": "execute_result",
     "data": {
      "text/html": [
       "<div>\n",
       "<style scoped>\n",
       "    .dataframe tbody tr th:only-of-type {\n",
       "        vertical-align: middle;\n",
       "    }\n",
       "\n",
       "    .dataframe tbody tr th {\n",
       "        vertical-align: top;\n",
       "    }\n",
       "\n",
       "    .dataframe thead th {\n",
       "        text-align: right;\n",
       "    }\n",
       "</style>\n",
       "<table border=\"1\" class=\"dataframe\">\n",
       "  <thead>\n",
       "    <tr style=\"text-align: right;\">\n",
       "      <th></th>\n",
       "      <th>recency</th>\n",
       "      <th>history</th>\n",
       "      <th>mens</th>\n",
       "      <th>womens</th>\n",
       "      <th>newbie</th>\n",
       "      <th>treatment</th>\n",
       "      <th>visit</th>\n",
       "      <th>conversion</th>\n",
       "      <th>spend</th>\n",
       "      <th>history_segment</th>\n",
       "      <th>zip_code</th>\n",
       "      <th>channel</th>\n",
       "    </tr>\n",
       "  </thead>\n",
       "  <tbody>\n",
       "    <tr>\n",
       "      <th>0</th>\n",
       "      <td>8</td>\n",
       "      <td>572.65</td>\n",
       "      <td>1</td>\n",
       "      <td>0</td>\n",
       "      <td>1</td>\n",
       "      <td>0</td>\n",
       "      <td>0</td>\n",
       "      <td>0</td>\n",
       "      <td>0.0</td>\n",
       "      <td>4.0</td>\n",
       "      <td>2.0</td>\n",
       "      <td>2.0</td>\n",
       "    </tr>\n",
       "    <tr>\n",
       "      <th>1</th>\n",
       "      <td>5</td>\n",
       "      <td>42.38</td>\n",
       "      <td>1</td>\n",
       "      <td>0</td>\n",
       "      <td>1</td>\n",
       "      <td>0</td>\n",
       "      <td>1</td>\n",
       "      <td>0</td>\n",
       "      <td>0.0</td>\n",
       "      <td>0.0</td>\n",
       "      <td>2.0</td>\n",
       "      <td>1.0</td>\n",
       "    </tr>\n",
       "    <tr>\n",
       "      <th>2</th>\n",
       "      <td>1</td>\n",
       "      <td>3003.48</td>\n",
       "      <td>1</td>\n",
       "      <td>1</td>\n",
       "      <td>1</td>\n",
       "      <td>0</td>\n",
       "      <td>0</td>\n",
       "      <td>0</td>\n",
       "      <td>0.0</td>\n",
       "      <td>6.0</td>\n",
       "      <td>2.0</td>\n",
       "      <td>1.0</td>\n",
       "    </tr>\n",
       "    <tr>\n",
       "      <th>3</th>\n",
       "      <td>1</td>\n",
       "      <td>662.10</td>\n",
       "      <td>0</td>\n",
       "      <td>1</td>\n",
       "      <td>1</td>\n",
       "      <td>0</td>\n",
       "      <td>0</td>\n",
       "      <td>0</td>\n",
       "      <td>0.0</td>\n",
       "      <td>4.0</td>\n",
       "      <td>2.0</td>\n",
       "      <td>2.0</td>\n",
       "    </tr>\n",
       "    <tr>\n",
       "      <th>4</th>\n",
       "      <td>5</td>\n",
       "      <td>44.37</td>\n",
       "      <td>0</td>\n",
       "      <td>1</td>\n",
       "      <td>0</td>\n",
       "      <td>0</td>\n",
       "      <td>0</td>\n",
       "      <td>0</td>\n",
       "      <td>0.0</td>\n",
       "      <td>0.0</td>\n",
       "      <td>2.0</td>\n",
       "      <td>2.0</td>\n",
       "    </tr>\n",
       "  </tbody>\n",
       "</table>\n",
       "</div>"
      ],
      "text/plain": [
       "   recency  history  mens  womens  newbie  treatment  visit  conversion  \\\n",
       "0        8   572.65     1       0       1          0      0           0   \n",
       "1        5    42.38     1       0       1          0      1           0   \n",
       "2        1  3003.48     1       1       1          0      0           0   \n",
       "3        1   662.10     0       1       1          0      0           0   \n",
       "4        5    44.37     0       1       0          0      0           0   \n",
       "\n",
       "   spend  history_segment  zip_code  channel  \n",
       "0    0.0              4.0       2.0      2.0  \n",
       "1    0.0              0.0       2.0      1.0  \n",
       "2    0.0              6.0       2.0      1.0  \n",
       "3    0.0              4.0       2.0      2.0  \n",
       "4    0.0              0.0       2.0      2.0  "
      ]
     },
     "metadata": {},
     "execution_count": 33
    }
   ],
   "metadata": {}
  },
  {
   "cell_type": "code",
   "execution_count": 34,
   "source": [
    "# treatment 0, 1 のデータフレームに分ける\n",
    "treatment_1 = male_df.query(\"treatment == 1\")\n",
    "treatment_0 = male_df.query(\"treatment == 0\")\n",
    "\n",
    "# 介入が購買金額に与えた影響を計算する\n",
    "ts_1 = treatment_1[\"spend\"].mean()\n",
    "ts_0 = treatment_0[\"spend\"].mean()\n",
    "print(\"介入が購買金額に与えた影響は,\", np.round(ts_1 - ts_0, 3))\n",
    "\n",
    "# 介入がconversionに与えた影響を計算する\n",
    "tc_1 = treatment_1[\"conversion\"].mean()\n",
    "tc_0 = treatment_0[\"conversion\"].mean()\n",
    "True_ATE = np.round((tc_1 - tc_0), 5)\n",
    "print(\"介入がconversionに与えた影響は,\", True_ATE)"
   ],
   "outputs": [
    {
     "output_type": "stream",
     "name": "stdout",
     "text": [
      "介入が購買金額に与えた影響は, 0.77\n",
      "介入がconversionに与えた影響は, 0.00681\n"
     ]
    }
   ],
   "metadata": {}
  },
  {
   "cell_type": "code",
   "execution_count": 35,
   "source": [
    "# set data \n",
    "def df_sample(df, sample_size:int, random_state:int):\n",
    "    df = df.sample(sample_size, random_state = random_state)\n",
    "    return df\n",
    "\n",
    "demo_df_sampled = df_sample(demo_df, sample_size=len(demo_df), random_state=42)\n",
    "print(demo_df_sampled.shape)\n",
    "display(demo_df_sampled.head())\n",
    "\n",
    "print(\"conversion == 0\", len(demo_df_sampled) - demo_df_sampled[[\"conversion\"]].sum())\n",
    "print(\"conversion == 1\", demo_df_sampled[[\"conversion\"]].sum())\n",
    "\n",
    "y = demo_df_sampled.conversion\n",
    "T = demo_df_sampled.treatment\n",
    "X = demo_df_sampled.drop(columns=[\"conversion\", \"treatment\", \"spend\", \"visit\"])"
   ],
   "outputs": [
    {
     "output_type": "stream",
     "name": "stdout",
     "text": [
      "(31925, 12)\n"
     ]
    },
    {
     "output_type": "display_data",
     "data": {
      "text/html": [
       "<div>\n",
       "<style scoped>\n",
       "    .dataframe tbody tr th:only-of-type {\n",
       "        vertical-align: middle;\n",
       "    }\n",
       "\n",
       "    .dataframe tbody tr th {\n",
       "        vertical-align: top;\n",
       "    }\n",
       "\n",
       "    .dataframe thead th {\n",
       "        text-align: right;\n",
       "    }\n",
       "</style>\n",
       "<table border=\"1\" class=\"dataframe\">\n",
       "  <thead>\n",
       "    <tr style=\"text-align: right;\">\n",
       "      <th></th>\n",
       "      <th>recency</th>\n",
       "      <th>history</th>\n",
       "      <th>mens</th>\n",
       "      <th>womens</th>\n",
       "      <th>newbie</th>\n",
       "      <th>treatment</th>\n",
       "      <th>visit</th>\n",
       "      <th>conversion</th>\n",
       "      <th>spend</th>\n",
       "      <th>history_segment</th>\n",
       "      <th>zip_code</th>\n",
       "      <th>channel</th>\n",
       "    </tr>\n",
       "  </thead>\n",
       "  <tbody>\n",
       "    <tr>\n",
       "      <th>18078</th>\n",
       "      <td>1</td>\n",
       "      <td>29.99</td>\n",
       "      <td>0</td>\n",
       "      <td>1</td>\n",
       "      <td>0</td>\n",
       "      <td>1</td>\n",
       "      <td>0</td>\n",
       "      <td>0</td>\n",
       "      <td>0.0</td>\n",
       "      <td>0.0</td>\n",
       "      <td>2.0</td>\n",
       "      <td>1.0</td>\n",
       "    </tr>\n",
       "    <tr>\n",
       "      <th>2153</th>\n",
       "      <td>5</td>\n",
       "      <td>135.10</td>\n",
       "      <td>0</td>\n",
       "      <td>1</td>\n",
       "      <td>0</td>\n",
       "      <td>0</td>\n",
       "      <td>0</td>\n",
       "      <td>0</td>\n",
       "      <td>0.0</td>\n",
       "      <td>1.0</td>\n",
       "      <td>2.0</td>\n",
       "      <td>1.0</td>\n",
       "    </tr>\n",
       "    <tr>\n",
       "      <th>25017</th>\n",
       "      <td>6</td>\n",
       "      <td>29.99</td>\n",
       "      <td>0</td>\n",
       "      <td>1</td>\n",
       "      <td>1</td>\n",
       "      <td>0</td>\n",
       "      <td>0</td>\n",
       "      <td>0</td>\n",
       "      <td>0.0</td>\n",
       "      <td>0.0</td>\n",
       "      <td>1.0</td>\n",
       "      <td>2.0</td>\n",
       "    </tr>\n",
       "    <tr>\n",
       "      <th>1668</th>\n",
       "      <td>5</td>\n",
       "      <td>29.99</td>\n",
       "      <td>1</td>\n",
       "      <td>0</td>\n",
       "      <td>0</td>\n",
       "      <td>0</td>\n",
       "      <td>1</td>\n",
       "      <td>0</td>\n",
       "      <td>0.0</td>\n",
       "      <td>0.0</td>\n",
       "      <td>2.0</td>\n",
       "      <td>2.0</td>\n",
       "    </tr>\n",
       "    <tr>\n",
       "      <th>15851</th>\n",
       "      <td>1</td>\n",
       "      <td>883.04</td>\n",
       "      <td>1</td>\n",
       "      <td>1</td>\n",
       "      <td>1</td>\n",
       "      <td>1</td>\n",
       "      <td>1</td>\n",
       "      <td>0</td>\n",
       "      <td>0.0</td>\n",
       "      <td>5.0</td>\n",
       "      <td>1.0</td>\n",
       "      <td>0.0</td>\n",
       "    </tr>\n",
       "  </tbody>\n",
       "</table>\n",
       "</div>"
      ],
      "text/plain": [
       "       recency  history  mens  womens  newbie  treatment  visit  conversion  \\\n",
       "18078        1    29.99     0       1       0          1      0           0   \n",
       "2153         5   135.10     0       1       0          0      0           0   \n",
       "25017        6    29.99     0       1       1          0      0           0   \n",
       "1668         5    29.99     1       0       0          0      1           0   \n",
       "15851        1   883.04     1       1       1          1      1           0   \n",
       "\n",
       "       spend  history_segment  zip_code  channel  \n",
       "18078    0.0              0.0       2.0      1.0  \n",
       "2153     0.0              1.0       2.0      1.0  \n",
       "25017    0.0              0.0       1.0      2.0  \n",
       "1668     0.0              0.0       2.0      2.0  \n",
       "15851    0.0              5.0       1.0      0.0  "
      ]
     },
     "metadata": {}
    },
    {
     "output_type": "stream",
     "name": "stdout",
     "text": [
      "conversion == 0 conversion    31625\n",
      "dtype: int64\n",
      "conversion == 1 conversion    300\n",
      "dtype: int64\n"
     ]
    }
   ],
   "metadata": {}
  },
  {
   "cell_type": "markdown",
   "source": [
    "# S-Learner"
   ],
   "metadata": {}
  },
  {
   "cell_type": "code",
   "execution_count": 36,
   "source": [
    "# Ready-to-use S-Learner using LinearRegression\n",
    "learner_s = LRSRegressor()\n",
    "ate_s = learner_s.estimate_ate(X=X, treatment=T, y=y)\n",
    "print(ate_s)\n",
    "print(\"True ATE : \", True_ATE)\n",
    "print('ATE estimate: {:.05f}'.format(ate_s[0][0]))\n",
    "print('ATE lower bound: {:.05f}'.format(ate_s[1][0]))\n",
    "print('ATE upper bound: {:.05f}'.format(ate_s[2][0]))\n",
    "\n",
    "learner_s =  XGBTRegressor()\n",
    "ate_s = learner_s.estimate_ate(X=X, treatment=T, y=y)\n",
    "print(ate_s)\n",
    "print(\"True ATE : \", True_ATE)\n",
    "print('ATE estimate: {:.05f}'.format(ate_s[0][0]))\n",
    "print('ATE lower bound: {:.05f}'.format(ate_s[1][0]))\n",
    "print('ATE upper bound: {:.05f}'.format(ate_s[2][0]))"
   ],
   "outputs": [
    {
     "output_type": "stream",
     "name": "stdout",
     "text": [
      "(array([0.00765484]), array([0.00557179]), array([0.00973788]))\n",
      "True ATE :  0.00681\n",
      "ATE estimate: 0.00765\n",
      "ATE lower bound: 0.00557\n",
      "ATE upper bound: 0.00974\n",
      "(array([0.00788286]), array([0.00644016]), array([0.00932556]))\n",
      "True ATE :  0.00681\n",
      "ATE estimate: 0.00788\n",
      "ATE lower bound: 0.00644\n",
      "ATE upper bound: 0.00933\n"
     ]
    }
   ],
   "metadata": {}
  },
  {
   "cell_type": "code",
   "execution_count": 37,
   "source": [
    "slearner_tau = learner_s.fit_predict(X, T, y)\n",
    "learner_s.plot_importance(X=X, \n",
    "                         tau=slearner_tau, \n",
    "                         normalize=True, \n",
    "                         method='auto', \n",
    "                         features=X.columns)"
   ],
   "outputs": [
    {
     "output_type": "display_data",
     "data": {
      "image/png": "[encoded data removed]",
      "text/plain": [
       "<Figure size 864x576 with 1 Axes>"
      ]
     },
     "metadata": {
      "needs_background": "light"
     }
    }
   ],
   "metadata": {}
  },
  {
   "cell_type": "code",
   "execution_count": 38,
   "source": [
    "# Using SHAP\n",
    "shap_slearner = learner_s.get_shap_values(X=X, tau=slearner_tau)\n",
    "\n",
    "# Plot shap values without specifying shap_dict\n",
    "learner_s.plot_shap_values(X=X, shap_dict=shap_slearner, features=X.columns)"
   ],
   "outputs": [
    {
     "output_type": "display_data",
     "data": {
      "image/png": "[encoded data removed]",
      "text/plain": [
       "<Figure size 576x338.4 with 2 Axes>"
      ]
     },
     "metadata": {
      "needs_background": "light"
     }
    }
   ],
   "metadata": {}
  },
  {
   "cell_type": "markdown",
   "source": [
    "# T-Learner"
   ],
   "metadata": {}
  },
  {
   "cell_type": "code",
   "execution_count": 39,
   "source": [
    "# True ATE\n",
    "print(\"True ATE : \", True_ATE)\n",
    "\n",
    "# Ready-to-use T-Learner using XGB\n",
    "learner_t = XGBTRegressor()\n",
    "ate_t = learner_t.estimate_ate(X=X, treatment=T, y=y)\n",
    "print('Using the ready-to-use XGBTRegressor class')\n",
    "print(ate_t)\n",
    "print('ATE estimate: {:.05f}'.format(ate_t[0][0]))\n",
    "print('ATE lower bound: {:.05f}'.format(ate_t[1][0]))\n",
    "print('ATE upper bound: {:.05f}'.format(ate_t[2][0]))\n",
    "\n",
    "# Calling the Base Learner class and feeding in XGB\n",
    "learner_t = BaseTRegressor(learner=XGBRegressor())\n",
    "ate_t = learner_t.estimate_ate(X=X, treatment=T, y=y)\n",
    "print('\\nUsing the BaseTRegressor class and using XGB (same result):')\n",
    "print(ate_t)\n",
    "print('ATE estimate: {:.05f}'.format(ate_t[0][0]))\n",
    "print('ATE lower bound: {:.05f}'.format(ate_t[1][0]))\n",
    "print('ATE upper bound: {:.05f}'.format(ate_t[2][0]))\n",
    "\n",
    "# Calling the Base Learner class and feeding in LinearRegression\n",
    "learner_t = BaseTRegressor(learner=LinearRegression())\n",
    "ate_t = learner_t.estimate_ate(X=X, treatment=T, y=y)\n",
    "print('\\nUsing the BaseTRegressor class and using Linear Regression (different result):')\n",
    "print(ate_t)\n",
    "print('ATE estimate: {:.05f}'.format(ate_t[0][0]))\n",
    "print('ATE lower bound: {:.05f}'.format(ate_t[1][0]))\n",
    "print('ATE upper bound: {:.05f}'.format(ate_t[2][0]))"
   ],
   "outputs": [
    {
     "output_type": "stream",
     "name": "stdout",
     "text": [
      "True ATE :  0.00681\n",
      "Using the ready-to-use XGBTRegressor class\n",
      "(array([0.00788286]), array([0.00644016]), array([0.00932556]))\n",
      "ATE estimate: 0.00788\n",
      "ATE lower bound: 0.00644\n",
      "ATE upper bound: 0.00933\n",
      "\n",
      "Using the BaseTRegressor class and using XGB (same result):\n",
      "(array([0.00788286]), array([0.00644016]), array([0.00932556]))\n",
      "ATE estimate: 0.00788\n",
      "ATE lower bound: 0.00644\n",
      "ATE upper bound: 0.00933\n",
      "\n",
      "Using the BaseTRegressor class and using Linear Regression (different result):\n",
      "(array([0.00770988]), array([0.00566948]), array([0.00975028]))\n",
      "ATE estimate: 0.00771\n",
      "ATE lower bound: 0.00567\n",
      "ATE upper bound: 0.00975\n"
     ]
    }
   ],
   "metadata": {}
  },
  {
   "cell_type": "code",
   "execution_count": 40,
   "source": [
    "tlearner_tau = learner_t.fit_predict(X, T, y)\n",
    "learner_t.plot_importance(X=X, \n",
    "                         tau=tlearner_tau, \n",
    "                         normalize=True, \n",
    "                         method='auto', \n",
    "                         features=X.columns)"
   ],
   "outputs": [
    {
     "output_type": "display_data",
     "data": {
      "image/png": "[encoded data removed]",
      "text/plain": [
       "<Figure size 864x576 with 1 Axes>"
      ]
     },
     "metadata": {
      "needs_background": "light"
     }
    }
   ],
   "metadata": {}
  },
  {
   "cell_type": "code",
   "execution_count": 41,
   "source": [
    "# Using SHAP\n",
    "shap_slearner = learner_t.get_shap_values(X=X, tau=tlearner_tau, features=X.columns)\n",
    "\n",
    "# Plot shap values without specifying shap_dict\n",
    "learner_t.plot_shap_values(X=X, shap_dict=shap_slearner, features=X.columns)"
   ],
   "outputs": [
    {
     "output_type": "display_data",
     "data": {
      "image/png": "[encoded data removed]",
      "text/plain": [
       "<Figure size 576x338.4 with 2 Axes>"
      ]
     },
     "metadata": {
      "needs_background": "light"
     }
    }
   ],
   "metadata": {}
  },
  {
   "cell_type": "markdown",
   "source": [
    "# X-Learner"
   ],
   "metadata": {}
  },
  {
   "cell_type": "code",
   "execution_count": 42,
   "source": [
    "# True ATE\n",
    "print(\"True ATE : \", True_ATE)\n",
    "\n",
    "# X Learner with propensity score input\n",
    "# Calling the Base Learner class and feeding in XGB\n",
    "learner_x = BaseXRegressor(learner=XGBRegressor())\n",
    "ate_x = learner_x.estimate_ate(X=X, treatment=T, y=y)\n",
    "print('Using the BaseXRegressor class and using XGB:')\n",
    "print(ate_x)\n",
    "print('ATE estimate: {:.05f}'.format(ate_x[0][0]))\n",
    "print('ATE lower bound: {:.05f}'.format(ate_x[1][0]))\n",
    "print('ATE upper bound: {:.05f}'.format(ate_x[2][0]))\n",
    "\n",
    "# Calling the Base Learner class and feeding in LinearRegression\n",
    "learner_x = BaseXRegressor(learner=LinearRegression())\n",
    "ate_x = learner_x.estimate_ate(X=X, treatment=T, y=y)\n",
    "print('\\nUsing the BaseXRegressor class and using Linear Regression:')\n",
    "print(ate_x)\n",
    "print('ATE estimate: {:.05f}'.format(ate_x[0][0]))\n",
    "print('ATE lower bound: {:.05f}'.format(ate_x[1][0]))\n",
    "print('ATE upper bound: {:.05f}'.format(ate_x[2][0]))"
   ],
   "outputs": [
    {
     "output_type": "stream",
     "name": "stdout",
     "text": [
      "True ATE :  0.00681\n",
      "Using the BaseXRegressor class and using XGB:\n",
      "(array([0.00796879]), array([0.00663038]), array([0.0093072]))\n",
      "ATE estimate: 0.00797\n",
      "ATE lower bound: 0.00663\n",
      "ATE upper bound: 0.00931\n",
      "\n",
      "Using the BaseXRegressor class and using Linear Regression:\n",
      "(array([0.00770988]), array([0.00566948]), array([0.00975028]))\n",
      "ATE estimate: 0.00771\n",
      "ATE lower bound: 0.00567\n",
      "ATE upper bound: 0.00975\n"
     ]
    }
   ],
   "metadata": {}
  },
  {
   "cell_type": "code",
   "execution_count": 43,
   "source": [
    "xlearner_tau = learner_x.fit_predict(X, T, y)\n",
    "learner_x.plot_importance(X=X, \n",
    "                         tau=xlearner_tau, \n",
    "                         normalize=True, \n",
    "                         method='auto', \n",
    "                         features=X.columns)"
   ],
   "outputs": [
    {
     "output_type": "display_data",
     "data": {
      "image/png": "[encoded data removed]",
      "text/plain": [
       "<Figure size 864x576 with 1 Axes>"
      ]
     },
     "metadata": {
      "needs_background": "light"
     }
    }
   ],
   "metadata": {}
  },
  {
   "cell_type": "code",
   "execution_count": 44,
   "source": [
    "# Using SHAP\n",
    "shap_slearner = learner_x.get_shap_values(X=X, tau=xlearner_tau, features=X.columns)\n",
    "\n",
    "# Plot shap values without specifying shap_dict\n",
    "learner_x.plot_shap_values(X=X, shap_dict=shap_slearner, features=X.columns)"
   ],
   "outputs": [
    {
     "output_type": "display_data",
     "data": {
      "image/png": "[encoded data removed]",
      "text/plain": [
       "<Figure size 576x338.4 with 2 Axes>"
      ]
     },
     "metadata": {
      "needs_background": "light"
     }
    }
   ],
   "metadata": {}
  },
  {
   "cell_type": "code",
   "execution_count": 47,
   "source": [
    "# 個別効果があった人の数を見てみる\n",
    "print(\"num_of_data : \", len(xlearner_tau))\n",
    "cnt = 0\n",
    "for i in xlearner_tau:\n",
    "    if i > 0.01:\n",
    "        cnt += 1\n",
    "\n",
    "print(\"up more 1% : \", cnt)\n",
    "\n",
    "cnt = 0\n",
    "for i in xlearner_tau:\n",
    "    if i > 0.005:\n",
    "        cnt += 1\n",
    "\n",
    "print(\"up more 0.5% : \", cnt)\n",
    "\n",
    "cnt = 0\n",
    "for i in xlearner_tau:\n",
    "    if i > 0.001:\n",
    "        cnt += 1\n",
    "\n",
    "print(\"up more 0.1% : \", cnt)"
   ],
   "outputs": [
    {
     "output_type": "stream",
     "name": "stdout",
     "text": [
      "num_of_data :  31925\n",
      "up more 1% :  6752\n",
      "up more 0.5% :  24446\n",
      "up more 0.1% :  31925\n"
     ]
    }
   ],
   "metadata": {}
  },
  {
   "cell_type": "code",
   "execution_count": null,
   "source": [],
   "outputs": [],
   "metadata": {}
  }
 ],
 "metadata": {
  "orig_nbformat": 4,
  "language_info": {
   "name": "python",
   "version": "3.7.10",
   "mimetype": "text/x-python",
   "codemirror_mode": {
    "name": "ipython",
    "version": 3
   },
   "pygments_lexer": "ipython3",
   "nbconvert_exporter": "python",
   "file_extension": ".py"
  },
  "kernelspec": {
   "name": "python3",
   "display_name": "Python 3.7.10 64-bit ('ml': conda)"
  },
  "interpreter": {
   "hash": "0b5646a94be72c05438b554993638e5c1412663ebafc879c2923356000d6182b"
  }
 },
 "nbformat": 4,
 "nbformat_minor": 2
}